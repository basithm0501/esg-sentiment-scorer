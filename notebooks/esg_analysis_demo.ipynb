{
 "cells": [
  {
   "cell_type": "markdown",
   "metadata": {},
   "source": [
    "# ESG Sentiment Analysis Demo\n",
    "\n",
    "This notebook demonstrates the core functionality of the ESG Sentiment Scorer system.\n"
   ]
  },
  {
   "cell_type": "code",
   "execution_count": null,
   "metadata": {},
   "outputs": [],
   "source": [
    "# Import necessary libraries\n",
    "import sys\n",
    "import os\n",
    "sys.path.append('../src')\n",
    "\n",
    "import pandas as pd\n",
    "import numpy as np\n",
    "import matplotlib.pyplot as plt\n",
    "import seaborn as sns\n",
    "import plotly.express as px\n",
    "import plotly.graph_objects as go\n",
    "from datetime import datetime, timedelta\n",
    "\n",
    "# Set style\n",
    "plt.style.use('seaborn-v0_8')\n",
    "sns.set_palette(\"husl\")\n",
    "\n",
    "print(\"Libraries imported successfully!\")"
   ]
  },
  {
   "cell_type": "markdown",
   "metadata": {},
   "source": [
    "## 1. Configuration and Setup"
   ]
  },
  {
   "cell_type": "code",
   "execution_count": null,
   "metadata": {},
   "outputs": [],
   "source": [
    "# Load configuration\n",
    "from config.settings import settings, ESGCategories\n",
    "\n",
    "print(\"ESG Categories:\")\n",
    "for category, config in ESGCategories.get_all_categories().items():\n",
    "    print(f\"\\n{category.upper()}:\")\n",
    "    print(f\"Keywords: {config['keywords'][:5]}...\")  # Show first 5 keywords"
   ]
  },
  {
   "cell_type": "markdown",
   "metadata": {},
   "source": [
    "## 2. News Scraping Demo"
   ]
  },
  {
   "cell_type": "code",
   "execution_count": null,
   "metadata": {},
   "outputs": [],
   "source": [
    "# Demo news scraping\n",
    "import asyncio\n",
    "from src.scraping.news_scraper import NewsScraperEngine\n",
    "\n",
    "async def demo_news_scraping():\n",
    "    async with NewsScraperEngine() as scraper:\n",
    "        # Search for company news\n",
    "        articles = await scraper.search_company_news(\"Tesla\", days_back=30)\n",
    "        \n",
    "        print(f\"Found {len(articles)} articles about Tesla:\")\n",
    "        for i, article in enumerate(articles, 1):\n",
    "            print(f\"\\n{i}. {article.title}\")\n",
    "            print(f\"   Source: {article.source}\")\n",
    "            print(f\"   Keywords: {', '.join(article.keywords)}\")\n",
    "            print(f\"   Date: {article.published_date}\")\n",
    "        \n",
    "        return articles\n",
    "\n",
    "# Run the demo\n",
    "articles = await demo_news_scraping()"
   ]
  },
  {
   "cell_type": "markdown",
   "metadata": {},
   "source": [
    "## 3. Sentiment Analysis Demo"
   ]
  },
  {
   "cell_type": "code",
   "execution_count": null,
   "metadata": {},
   "outputs": [],
   "source": [
    "# Demo sentiment analysis\n",
    "from src.nlp.sentiment_analyzer import ESGSentimentAnalyzer, ESGScorer\n",
    "\n",
    "async def demo_sentiment_analysis():\n",
    "    analyzer = ESGSentimentAnalyzer()\n",
    "    \n",
    "    # Sample texts for analysis\n",
    "    sample_texts = [\n",
    "        \"Tesla announces major breakthrough in battery recycling technology, reducing environmental impact by 40%.\",\n",
    "        \"Company faces criticism over workplace safety conditions and employee satisfaction scores.\",\n",
    "        \"Board of directors approves new transparency measures and executive compensation guidelines.\",\n",
    "        \"Investigation launched into potential environmental violations at manufacturing facility.\"\n",
    "    ]\n",
    "    \n",
    "    results = []\n",
    "    \n",
    "    print(\"ESG Sentiment Analysis Results:\\n\")\n",
    "    \n",
    "    for i, text in enumerate(sample_texts, 1):\n",
    "        result = await analyzer.analyze_text(text, \"Tesla\")\n",
    "        results.append(result)\n",
    "        \n",
    "        print(f\"Text {i}: {text[:50]}...\")\n",
    "        print(f\"  Overall Sentiment: {result.overall_sentiment:.2f}\")\n",
    "        print(f\"  ESG Scores: E={result.esg_scores.get('environmental', 0):.2f}, \"\n",
    "              f\"S={result.esg_scores.get('social', 0):.2f}, \"\n",
    "              f\"G={result.esg_scores.get('governance', 0):.2f}\")\n",
    "        print(f\"  Key Themes: {', '.join(result.key_themes)}\")\n",
    "        print(f\"  Risk Indicators: {', '.join(result.risk_indicators)}\\n\")\n",
    "    \n",
    "    return results\n",
    "\n",
    "# Run sentiment analysis demo\n",
    "sentiment_results = await demo_sentiment_analysis()"
   ]
  },
  {
   "cell_type": "markdown",
   "metadata": {},
   "source": [
    "## 4. ESG Score Calculation"
   ]
  },
  {
   "cell_type": "code",
   "execution_count": null,
   "metadata": {},
   "outputs": [],
   "source": [
    "# Calculate overall ESG scores\n",
    "scorer = ESGScorer()\n",
    "final_scores = scorer.calculate_esg_score(sentiment_results)\n",
    "\n",
    "print(\"Final ESG Scores:\")\n",
    "for category, score in final_scores.items():\n",
    "    print(f\"{category.title()}: {score:.3f}\")\n",
    "\n",
    "# Create a DataFrame for visualization\n",
    "scores_df = pd.DataFrame([\n",
    "    {'Category': 'Environmental', 'Score': final_scores['environmental']},\n",
    "    {'Category': 'Social', 'Score': final_scores['social']},\n",
    "    {'Category': 'Governance', 'Score': final_scores['governance']},\n",
    "])\n",
    "\n",
    "print(\"\\nScores DataFrame:\")\n",
    "print(scores_df)"
   ]
  },
  {
   "cell_type": "markdown",
   "metadata": {},
   "source": [
    "## 5. Data Visualization"
   ]
  },
  {
   "cell_type": "code",
   "execution_count": null,
   "metadata": {},
   "outputs": [],
   "source": [
    "# Create ESG score visualizations\n",
    "fig, ((ax1, ax2), (ax3, ax4)) = plt.subplots(2, 2, figsize=(15, 10))\n",
    "\n",
    "# 1. ESG Scores Bar Chart\n",
    "categories = ['Environmental', 'Social', 'Governance']\n",
    "scores = [final_scores['environmental'], final_scores['social'], final_scores['governance']]\n",
    "colors = ['#2E8B57', '#4169E1', '#DC143C']\n",
    "\n",
    "bars = ax1.bar(categories, scores, color=colors, alpha=0.7)\n",
    "ax1.set_title('ESG Scores by Category', fontsize=14, fontweight='bold')\n",
    "ax1.set_ylabel('Score')\n",
    "ax1.set_ylim(0, 1)\n",
    "\n",
    "# Add value labels on bars\n",
    "for bar, score in zip(bars, scores):\n",
    "    ax1.text(bar.get_x() + bar.get_width()/2, bar.get_height() + 0.01, \n",
    "             f'{score:.3f}', ha='center', va='bottom', fontweight='bold')\n",
    "\n",
    "# 2. Overall Score Gauge (using pie chart)\n",
    "overall_score = final_scores['overall']\n",
    "remaining = 1 - overall_score\n",
    "\n",
    "wedges, texts = ax2.pie([overall_score, remaining], \n",
    "                       colors=['#2E8B57', '#E0E0E0'], \n",
    "                       startangle=90, counterclock=False)\n",
    "ax2.add_patch(plt.Circle((0,0), 0.5, color='white'))\n",
    "ax2.text(0, 0, f'{overall_score:.3f}\\nOverall\\nESG Score', \n",
    "         ha='center', va='center', fontsize=12, fontweight='bold')\n",
    "ax2.set_title('Overall ESG Score', fontsize=14, fontweight='bold')\n",
    "\n",
    "# 3. Sentiment Distribution\n",
    "sentiments = [result.overall_sentiment for result in sentiment_results]\n",
    "ax3.hist(sentiments, bins=5, color='skyblue', alpha=0.7, edgecolor='black')\n",
    "ax3.axvline(np.mean(sentiments), color='red', linestyle='--', \n",
    "            label=f'Mean: {np.mean(sentiments):.3f}')\n",
    "ax3.set_title('Sentiment Score Distribution', fontsize=14, fontweight='bold')\n",
    "ax3.set_xlabel('Sentiment Score')\n",
    "ax3.set_ylabel('Frequency')\n",
    "ax3.legend()\n",
    "\n",
    "# 4. Confidence Scores\n",
    "confidences = [result.confidence for result in sentiment_results]\n",
    "text_indices = range(1, len(confidences) + 1)\n",
    "\n",
    "ax4.bar(text_indices, confidences, color='orange', alpha=0.7)\n",
    "ax4.set_title('Analysis Confidence by Text', fontsize=14, fontweight='bold')\n",
    "ax4.set_xlabel('Text Sample')\n",
    "ax4.set_ylabel('Confidence Score')\n",
    "ax4.set_ylim(0, 1)\n",
    "\n",
    "plt.tight_layout()\n",
    "plt.show()"
   ]
  },
  {
   "cell_type": "markdown",
   "metadata": {},
   "source": [
    "## 6. Interactive Plotly Visualizations"
   ]
  },
  {
   "cell_type": "code",
   "execution_count": null,
   "metadata": {},
   "outputs": [],
   "source": [
    "# Create interactive radar chart\n",
    "categories = ['Environmental', 'Social', 'Governance', 'Transparency', 'Innovation']\n",
    "values = [\n",
    "    final_scores['environmental'], \n",
    "    final_scores['social'], \n",
    "    final_scores['governance'],\n",
    "    final_scores['confidence'],  # Use confidence as transparency proxy\n",
    "    0.75  # Mock innovation score\n",
    "]\n",
    "\n",
    "fig = go.Figure()\n",
    "\n",
    "fig.add_trace(go.Scatterpolar(\n",
    "    r=values,\n",
    "    theta=categories,\n",
    "    fill='toself',\n",
    "    name='Tesla ESG Profile',\n",
    "    line_color='rgba(46, 139, 87, 0.8)'\n",
    "))\n",
    "\n",
    "fig.update_layout(\n",
    "    polar=dict(\n",
    "        radialaxis=dict(\n",
    "            visible=True,\n",
    "            range=[0, 1]\n",
    "        )\n",
    "    ),\n",
    "    showlegend=True,\n",
    "    title=\"Interactive ESG Performance Radar Chart\",\n",
    "    title_x=0.5\n",
    ")\n",
    "\n",
    "fig.show()"
   ]
  },
  {
   "cell_type": "markdown",
   "metadata": {},
   "source": [
    "## 7. Risk Assessment Summary"
   ]
  },
  {
   "cell_type": "code",
   "execution_count": null,
   "metadata": {},
   "outputs": [],
   "source": [
    "# Aggregate risk indicators\n",
    "all_risks = []\n",
    "all_themes = []\n",
    "\n",
    "for result in sentiment_results:\n",
    "    all_risks.extend(result.risk_indicators)\n",
    "    all_themes.extend(result.key_themes)\n",
    "\n",
    "# Count occurrences\n",
    "risk_counts = pd.Series(all_risks).value_counts()\n",
    "theme_counts = pd.Series(all_themes).value_counts()\n",
    "\n",
    "print(\"Risk Assessment Summary:\")\n",
    "print(\"=\" * 30)\n",
    "print(f\"Overall ESG Score: {final_scores['overall']:.3f}\")\n",
    "print(f\"Analysis Confidence: {final_scores['confidence']:.3f}\")\n",
    "\n",
    "print(\"\\nTop Risk Indicators:\")\n",
    "if len(risk_counts) > 0:\n",
    "    for risk, count in risk_counts.head().items():\n",
    "        print(f\"  - {risk}: {count} occurrences\")\nelse:\n",
    "    print(\"  - No significant risks identified\")\n",
    "\n",
    "print(\"\\nTop ESG Themes:\")\n",
    "if len(theme_counts) > 0:\n",
    "    for theme, count in theme_counts.head().items():\n",
    "        print(f\"  - {theme}: {count} occurrences\")\nelse:\n",
    "    print(\"  - No significant themes identified\")\n",
    "\n",
    "# Risk level assessment\n",
    "overall_score = final_scores['overall']\n",
    "if overall_score >= 0.7:\n",
    "    risk_level = \"Low Risk\"\n",
    "    risk_color = \"🟢\"\nelif overall_score >= 0.5:\n",
    "    risk_level = \"Medium Risk\"\n",
    "    risk_color = \"🟡\"\nelse:\n",
    "    risk_level = \"High Risk\"\n",
    "    risk_color = \"🔴\"\n",
    "\n",
    "print(f\"\\n{risk_color} Investment Risk Level: {risk_level}\")\n",
    "\n",
    "# Investment recommendation\n",
    "if overall_score >= 0.7:\n",
    "    recommendation = \"STRONG BUY - Excellent ESG profile\"\nelif overall_score >= 0.6:\n",
    "    recommendation = \"BUY - Good ESG fundamentals\"\nelif overall_score >= 0.4:\n",
    "    recommendation = \"HOLD - Monitor ESG developments\"\nelse:\n",
    "    recommendation = \"AVOID - Significant ESG concerns\"\n",
    "\n",
    "print(f\"📈 Investment Recommendation: {recommendation}\")"
   ]
  },
  {
   "cell_type": "markdown",
   "metadata": {},
   "source": [
    "## 8. Export Results"
   ]
  },
  {
   "cell_type": "code",
   "execution_count": null,
   "metadata": {},
   "outputs": [],
   "source": [
    "# Create comprehensive results DataFrame\n",
    "results_data = []\n",
    "\n",
    "for i, result in enumerate(sentiment_results):\n",
    "    results_data.append({\n",
    "        'text_id': i + 1,\n",
    "        'overall_sentiment': result.overall_sentiment,\n",
    "        'confidence': result.confidence,\n",
    "        'environmental_score': result.esg_scores.get('environmental', 0),\n",
    "        'social_score': result.esg_scores.get('social', 0),\n",
    "        'governance_score': result.esg_scores.get('governance', 0),\n",
    "        'key_themes': ', '.join(result.key_themes),\n",
    "        'risk_indicators': ', '.join(result.risk_indicators),\n",
    "        'language': result.language\n",
    "    })\n",
    "\n",
    "results_df = pd.DataFrame(results_data)\n",
    "print(\"Detailed Results:\")\n",
    "print(results_df)\n",
    "\n",
    "# Save results\n",
    "results_df.to_csv('../data/processed/esg_analysis_results.csv', index=False)\n",
    "print(\"\\nResults saved to ../data/processed/esg_analysis_results.csv\")\n",
    "\n",
    "# Save final scores\n",
    "final_scores_df = pd.DataFrame([final_scores])\n",
    "final_scores_df.to_csv('../data/processed/final_esg_scores.csv', index=False)\n",
    "print(\"Final scores saved to ../data/processed/final_esg_scores.csv\")"
   ]
  },
  {
   "cell_type": "markdown",
   "metadata": {},
   "source": [
    "## Conclusion\n",
    "\n",
    "This notebook demonstrated the core functionality of the ESG Sentiment Scorer:\n",
    "\n",
    "1. **News Scraping**: Retrieved relevant articles about companies\n",
    "2. **Sentiment Analysis**: Analyzed text for ESG-related sentiment\n",
    "3. **ESG Classification**: Categorized content into Environmental, Social, and Governance factors\n",
    "4. **Risk Assessment**: Identified potential risk indicators\n",
    "5. **Scoring**: Calculated comprehensive ESG scores\n",
    "6. **Visualization**: Created interactive dashboards and charts\n",
    "7. **Investment Recommendations**: Generated data-driven investment advice\n",
    "\n",
    "The system provides a solid foundation for ESG-based investment analysis and can be extended with additional features like real-time monitoring, multi-language support, and advanced ML models."
   ]
  }
 ],
 "metadata": {
  "kernelspec": {
   "display_name": "Python 3",
   "language": "python",
   "name": "python3"
  },
  "language_info": {
   "codemirror_mode": {
    "name": "ipython",
    "version": 3
   },
   "file_extension": ".py",
   "mimetype": "text/x-python",
   "name": "python",
   "nbconvert_exporter": "python",
   "pygments_lexer": "ipython3",
   "version": "3.9.0"
  }
 },
 "nbformat": 4,
 "nbformat_minor": 4
}
